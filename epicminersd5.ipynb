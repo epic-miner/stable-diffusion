{
 "cells": [
  {
   "cell_type": "code",
   "execution_count": 17,
   "id": "94dba0bc-8c77-4295-85f8-4955e606ef05",
   "metadata": {
    "tags": []
   },
   "outputs": [
    {
     "name": "stdout",
     "output_type": "stream",
     "text": [
      "\u001b[1;32mDone!\n"
     ]
    }
   ],
   "source": [
    "#1 step installing requirements and repo\n",
    "print('\\033[1;32mInstalling requirements...')\n",
    "\n",
    "from IPython.display import clear_output\n",
    "!conda install -c conda-forge libglib -y & conda update -n base conda -y\n",
    "\n",
    "!pip install tqdm\n",
    "\n",
    "clear_output()\n",
    "print('\\033[1;32mDone! Conda installed!')\n",
    "\n",
    "# Clone the Stable Diffusion Web UI repository\n",
    "!git clone https://github.com/AUTOMATIC1111/stable-diffusion-webui.git\n",
    "%cd stable-diffusion-webui\n",
    "\n",
    "# Uncomment this line if you need to install the requirements\n",
    "%pip install -r requirements.txt --quiet\n",
    "\n",
    "# ControlNet extension\n",
    "#reactor extenshion\n",
    "%cd extensions/\n",
    "!git clone https://github.com/epic-miner/sd-webui-reactor.git\n",
    "!git clone https://github.com/Mikubill/sd-webui-controlnet.git\n",
    "%cd ..\n",
    "\n",
    "clear_output()\n",
    "print('\\033[1;32mDone!')"
   ]
  },
  {
   "cell_type": "code",
   "execution_count": 1,
   "id": "29bbd758-ffba-441e-800b-6eb0e89dbddd",
   "metadata": {
    "tags": []
   },
   "outputs": [
    {
     "name": "stdout",
     "output_type": "stream",
     "text": [
      "Requirement already satisfied: pyngrok in ./.conda/envs/default/lib/python3.9/site-packages (7.1.6)\n",
      "Requirement already satisfied: PyYAML>=5.1 in ./.conda/envs/default/lib/python3.9/site-packages (from pyngrok) (6.0.1)\n"
     ]
    },
    {
     "name": "stdin",
     "output_type": "stream",
     "text": [
      "Enter your ngrok authentication token:  https://github.com/lllyasviel/ControlNet.git\n"
     ]
    },
    {
     "name": "stderr",
     "output_type": "stream",
     "text": [
      "t=2024-05-24T20:21:39+0000 lvl=eror msg=\"failed to reconnect session\" obj=tunnels.session err=\"authentication failed: The authtoken you specified does not look like a proper ngrok tunnel authtoken.\\nYour authtoken: https://github.com/lllyasviel/ControlNet.git\\nInstructions to install your authtoken are on your ngrok dashboard:\\nhttps://dashboard.ngrok.com/get-started/your-authtoken\\r\\n\\r\\nERR_NGROK_105\\r\\n\"\n",
      "\n",
      "ERROR:  authentication failed: The authtoken you specified does not look like a proper ngrok tunnel authtoken.\n",
      "ERROR:  Your authtoken: https://github.com/lllyasviel/ControlNet.git\n",
      "ERROR:  Instructions to install your authtoken are on your ngrok dashboard:\n",
      "ERROR:  https://dashboard.ngrok.com/get-started/your-authtoken\n",
      "ERROR:  \n",
      "ERROR:  ERR_NGROK_105\n",
      "ERROR:  \n",
      "t=2024-05-24T20:21:39+0000 lvl=eror msg=\"session closing\" obj=tunnels.session err=\"authentication failed: The authtoken you specified does not look like a proper ngrok tunnel authtoken.\\nYour authtoken: https://github.com/lllyasviel/ControlNet.git\\nInstructions to install your authtoken are on your ngrok dashboard:\\nhttps://dashboard.ngrok.com/get-started/your-authtoken\\r\\n\\r\\nERR_NGROK_105\\r\\n\"\n"
     ]
    },
    {
     "name": "stdout",
     "output_type": "stream",
     "text": [
      "Python 3.9.19 | packaged by conda-forge | (main, Mar 20 2024, 12:50:21) \n",
      "[GCC 12.3.0]\n",
      "Version: v1.9.3\n",
      "Commit hash: 1c0a0c4c26f78c32095ebc7f8af82f5c04fca8c0\n"
     ]
    },
    {
     "ename": "PyngrokNgrokError",
     "evalue": "The ngrok process errored on start: authentication failed: The authtoken you specified does not look like a proper ngrok tunnel authtoken.\\nYour authtoken: https://github.com/lllyasviel/ControlNet.git\\nInstructions to install your authtoken are on your ngrok dashboard:\\nhttps://dashboard.ngrok.com/get-started/your-authtoken\\r\\n\\r\\nERR_NGROK_105\\r\\n.",
     "output_type": "error",
     "traceback": [
      "\u001b[0;31m---------------------------------------------------------------------------\u001b[0m",
      "\u001b[0;31mPyngrokNgrokError\u001b[0m                         Traceback (most recent call last)",
      "\u001b[0;32m/tmp/ipykernel_138/3906267229.py\u001b[0m in \u001b[0;36m<cell line: 29>\u001b[0;34m()\u001b[0m\n\u001b[1;32m     27\u001b[0m \u001b[0;34m\u001b[0m\u001b[0m\n\u001b[1;32m     28\u001b[0m \u001b[0;31m# Start ngrok\u001b[0m\u001b[0;34m\u001b[0m\u001b[0;34m\u001b[0m\u001b[0m\n\u001b[0;32m---> 29\u001b[0;31m \u001b[0mstart_ngrok\u001b[0m\u001b[0;34m(\u001b[0m\u001b[0;34m)\u001b[0m\u001b[0;34m\u001b[0m\u001b[0;34m\u001b[0m\u001b[0m\n\u001b[0m\u001b[1;32m     30\u001b[0m \u001b[0;34m\u001b[0m\u001b[0m\n\u001b[1;32m     31\u001b[0m \u001b[0;31m# Keep the script running to maintain the ngrok tunnel\u001b[0m\u001b[0;34m\u001b[0m\u001b[0;34m\u001b[0m\u001b[0m\n",
      "\u001b[0;32m/tmp/ipykernel_138/3906267229.py\u001b[0m in \u001b[0;36mstart_ngrok\u001b[0;34m()\u001b[0m\n\u001b[1;32m     19\u001b[0m \u001b[0;31m# Function to start ngrok\u001b[0m\u001b[0;34m\u001b[0m\u001b[0;34m\u001b[0m\u001b[0m\n\u001b[1;32m     20\u001b[0m \u001b[0;32mdef\u001b[0m \u001b[0mstart_ngrok\u001b[0m\u001b[0;34m(\u001b[0m\u001b[0;34m)\u001b[0m\u001b[0;34m:\u001b[0m\u001b[0;34m\u001b[0m\u001b[0;34m\u001b[0m\u001b[0m\n\u001b[0;32m---> 21\u001b[0;31m     \u001b[0mpublic_url\u001b[0m \u001b[0;34m=\u001b[0m \u001b[0mngrok\u001b[0m\u001b[0;34m.\u001b[0m\u001b[0mconnect\u001b[0m\u001b[0;34m(\u001b[0m\u001b[0;36m7860\u001b[0m\u001b[0;34m)\u001b[0m\u001b[0;34m\u001b[0m\u001b[0;34m\u001b[0m\u001b[0m\n\u001b[0m\u001b[1;32m     22\u001b[0m     \u001b[0mprint\u001b[0m\u001b[0;34m(\u001b[0m\u001b[0;34mf'Starting ngrok tunnel: {public_url}'\u001b[0m\u001b[0;34m)\u001b[0m\u001b[0;34m\u001b[0m\u001b[0;34m\u001b[0m\u001b[0m\n\u001b[1;32m     23\u001b[0m \u001b[0;34m\u001b[0m\u001b[0m\n",
      "\u001b[0;32m~/.conda/envs/default/lib/python3.9/site-packages/pyngrok/ngrok.py\u001b[0m in \u001b[0;36mconnect\u001b[0;34m(addr, proto, name, pyngrok_config, **options)\u001b[0m\n\u001b[1;32m    314\u001b[0m             \u001b[0moptions\u001b[0m\u001b[0;34m.\u001b[0m\u001b[0mpop\u001b[0m\u001b[0;34m(\u001b[0m\u001b[0;34m\"auth\"\u001b[0m\u001b[0;34m)\u001b[0m\u001b[0;34m\u001b[0m\u001b[0;34m\u001b[0m\u001b[0m\n\u001b[1;32m    315\u001b[0m \u001b[0;34m\u001b[0m\u001b[0m\n\u001b[0;32m--> 316\u001b[0;31m     \u001b[0mapi_url\u001b[0m \u001b[0;34m=\u001b[0m \u001b[0mget_ngrok_process\u001b[0m\u001b[0;34m(\u001b[0m\u001b[0mpyngrok_config\u001b[0m\u001b[0;34m)\u001b[0m\u001b[0;34m.\u001b[0m\u001b[0mapi_url\u001b[0m\u001b[0;34m\u001b[0m\u001b[0;34m\u001b[0m\u001b[0m\n\u001b[0m\u001b[1;32m    317\u001b[0m \u001b[0;34m\u001b[0m\u001b[0m\n\u001b[1;32m    318\u001b[0m     \u001b[0mlogger\u001b[0m\u001b[0;34m.\u001b[0m\u001b[0mdebug\u001b[0m\u001b[0;34m(\u001b[0m\u001b[0;34mf\"Creating tunnel with options: {options}\"\u001b[0m\u001b[0;34m)\u001b[0m\u001b[0;34m\u001b[0m\u001b[0;34m\u001b[0m\u001b[0m\n",
      "\u001b[0;32m~/.conda/envs/default/lib/python3.9/site-packages/pyngrok/ngrok.py\u001b[0m in \u001b[0;36mget_ngrok_process\u001b[0;34m(pyngrok_config)\u001b[0m\n\u001b[1;32m    154\u001b[0m     \u001b[0minstall_ngrok\u001b[0m\u001b[0;34m(\u001b[0m\u001b[0mpyngrok_config\u001b[0m\u001b[0;34m)\u001b[0m\u001b[0;34m\u001b[0m\u001b[0;34m\u001b[0m\u001b[0m\n\u001b[1;32m    155\u001b[0m \u001b[0;34m\u001b[0m\u001b[0m\n\u001b[0;32m--> 156\u001b[0;31m     \u001b[0;32mreturn\u001b[0m \u001b[0mprocess\u001b[0m\u001b[0;34m.\u001b[0m\u001b[0mget_process\u001b[0m\u001b[0;34m(\u001b[0m\u001b[0mpyngrok_config\u001b[0m\u001b[0;34m)\u001b[0m\u001b[0;34m\u001b[0m\u001b[0;34m\u001b[0m\u001b[0m\n\u001b[0m\u001b[1;32m    157\u001b[0m \u001b[0;34m\u001b[0m\u001b[0m\n\u001b[1;32m    158\u001b[0m \u001b[0;34m\u001b[0m\u001b[0m\n",
      "\u001b[0;32m~/.conda/envs/default/lib/python3.9/site-packages/pyngrok/process.py\u001b[0m in \u001b[0;36mget_process\u001b[0;34m(pyngrok_config)\u001b[0m\n\u001b[1;32m    233\u001b[0m         \u001b[0;32mreturn\u001b[0m \u001b[0m_current_processes\u001b[0m\u001b[0;34m[\u001b[0m\u001b[0mpyngrok_config\u001b[0m\u001b[0;34m.\u001b[0m\u001b[0mngrok_path\u001b[0m\u001b[0;34m]\u001b[0m\u001b[0;34m\u001b[0m\u001b[0;34m\u001b[0m\u001b[0m\n\u001b[1;32m    234\u001b[0m \u001b[0;34m\u001b[0m\u001b[0m\n\u001b[0;32m--> 235\u001b[0;31m     \u001b[0;32mreturn\u001b[0m \u001b[0m_start_process\u001b[0m\u001b[0;34m(\u001b[0m\u001b[0mpyngrok_config\u001b[0m\u001b[0;34m)\u001b[0m\u001b[0;34m\u001b[0m\u001b[0;34m\u001b[0m\u001b[0m\n\u001b[0m\u001b[1;32m    236\u001b[0m \u001b[0;34m\u001b[0m\u001b[0m\n\u001b[1;32m    237\u001b[0m \u001b[0;34m\u001b[0m\u001b[0m\n",
      "\u001b[0;32m~/.conda/envs/default/lib/python3.9/site-packages/pyngrok/process.py\u001b[0m in \u001b[0;36m_start_process\u001b[0;34m(pyngrok_config)\u001b[0m\n\u001b[1;32m    396\u001b[0m \u001b[0;34m\u001b[0m\u001b[0m\n\u001b[1;32m    397\u001b[0m         \u001b[0;32mif\u001b[0m \u001b[0mngrok_process\u001b[0m\u001b[0;34m.\u001b[0m\u001b[0mstartup_error\u001b[0m \u001b[0;32mis\u001b[0m \u001b[0;32mnot\u001b[0m \u001b[0;32mNone\u001b[0m\u001b[0;34m:\u001b[0m\u001b[0;34m\u001b[0m\u001b[0;34m\u001b[0m\u001b[0m\n\u001b[0;32m--> 398\u001b[0;31m             raise PyngrokNgrokError(f\"The ngrok process errored on start: {ngrok_process.startup_error}.\",\n\u001b[0m\u001b[1;32m    399\u001b[0m                                     \u001b[0mngrok_process\u001b[0m\u001b[0;34m.\u001b[0m\u001b[0mlogs\u001b[0m\u001b[0;34m,\u001b[0m\u001b[0;34m\u001b[0m\u001b[0;34m\u001b[0m\u001b[0m\n\u001b[1;32m    400\u001b[0m                                     ngrok_process.startup_error)\n",
      "\u001b[0;31mPyngrokNgrokError\u001b[0m: The ngrok process errored on start: authentication failed: The authtoken you specified does not look like a proper ngrok tunnel authtoken.\\nYour authtoken: https://github.com/lllyasviel/ControlNet.git\\nInstructions to install your authtoken are on your ngrok dashboard:\\nhttps://dashboard.ngrok.com/get-started/your-authtoken\\r\\n\\r\\nERR_NGROK_105\\r\\n."
     ]
    },
    {
     "name": "stdout",
     "output_type": "stream",
     "text": [
      "CUDA 12.1\n",
      "Launching Web UI with arguments: --port 7860 --skip-torch-cuda-test\n",
      "no module 'xformers'. Processing without...\n",
      "no module 'xformers'. Processing without...\n",
      "No module 'xformers'. Proceeding without it.\n"
     ]
    },
    {
     "name": "stderr",
     "output_type": "stream",
     "text": [
      "reading metadata for /home/studio-lab-user/stable-diffusion-webui/models/Stable-diffusion/su.safetensors: AssertionError\n",
      "Traceback (most recent call last):\n",
      "  File \"/home/studio-lab-user/stable-diffusion-webui/modules/sd_models.py\", line 75, in __init__\n",
      "    self.metadata = cache.cached_data_for_file('safetensors-metadata', \"checkpoint/\" + name, filename, read_metadata)\n",
      "  File \"/home/studio-lab-user/stable-diffusion-webui/modules/cache.py\", line 114, in cached_data_for_file\n",
      "    value = func()\n",
      "  File \"/home/studio-lab-user/stable-diffusion-webui/modules/sd_models.py\", line 67, in read_metadata\n",
      "    metadata = read_metadata_from_safetensors(filename)\n",
      "  File \"/home/studio-lab-user/stable-diffusion-webui/modules/sd_models.py\", line 282, in read_metadata_from_safetensors\n",
      "    assert metadata_len > 2 and json_start in (b'{\"', b\"{'\"), f\"{filename} is not a safetensors file\"\n",
      "AssertionError: /home/studio-lab-user/stable-diffusion-webui/models/Stable-diffusion/su.safetensors is not a safetensors file\n",
      "\n"
     ]
    },
    {
     "name": "stdout",
     "output_type": "stream",
     "text": [
      "ControlNet preprocessor location: /home/studio-lab-user/stable-diffusion-webui/extensions/sd-webui-controlnet/annotator/downloads\n",
      "2024-05-24 20:21:59,536 - ControlNet - \u001b[0;32mINFO\u001b[0m - ControlNet v1.1.449\n",
      "20:22:00 - ReActor - \u001b[38;5;173mSTATUS\u001b[0m - Running v0.7.0-b7 on Device: CPU\n",
      "Loading weights [7c819b6d13] from /home/studio-lab-user/stable-diffusion-webui/models/Stable-diffusion/anu.safetensors\n",
      "2024-05-24 20:22:01,163 - ControlNet - \u001b[0;32mINFO\u001b[0m - ControlNet UI callback registered.\n",
      "Running on local URL:  http://127.0.0.1:7860\n",
      "\n",
      "To create a public link, set `share=True` in `launch()`.\n",
      "Startup time: 22.8s (prepare environment: 6.2s, import torch: 7.6s, import gradio: 1.8s, setup paths: 2.0s, initialize shared: 0.7s, other imports: 1.0s, load scripts: 2.3s, create ui: 0.7s, gradio launch: 0.4s).\n",
      "Creating model from config: /home/studio-lab-user/stable-diffusion-webui/configs/v1-inference.yaml\n",
      "Applying attention optimization: Doggettx... done.\n",
      "Model loaded in 17.7s (load weights from disk: 1.4s, create model: 0.8s, apply weights to model: 14.5s, load textual inversion embeddings: 0.4s, calculate empty prompt: 0.4s).\n"
     ]
    }
   ],
   "source": [
    "#run stable diffushion webui\n",
    "\n",
    "# Install ngrok\n",
    "!pip install pyngrok\n",
    "import os\n",
    "from pyngrok import ngrok\n",
    "import subprocess\n",
    "import threading\n",
    "\n",
    "# Prompt user for ngrok authentication token\n",
    "ngrok_auth_token = input(\"Enter your ngrok authentication token: \")\n",
    "ngrok.set_auth_token(ngrok_auth_token)\n",
    "\n",
    "# Function to start the Web UI\n",
    "def start_webui():\n",
    "    os.chdir(\"/home/studio-lab-user/stable-diffusion-webui\")\n",
    "    subprocess.run([\"python\", \"launch.py\", \"--port\", \"7860\", \"--skip-torch-cuda-test\"])\n",
    "\n",
    "# Function to start ngrok\n",
    "def start_ngrok():\n",
    "    public_url = ngrok.connect(7860)\n",
    "    print(f'Starting ngrok tunnel: {public_url}')\n",
    "\n",
    "# Start the Web UI in a separate thread\n",
    "webui_thread = threading.Thread(target=start_webui)\n",
    "webui_thread.start()\n",
    "\n",
    "# Start ngrok\n",
    "start_ngrok()\n",
    "\n",
    "# Keep the script running to maintain the ngrok tunnel\n",
    "webui_thread.join()\n"
   ]
  },
  {
   "cell_type": "code",
   "execution_count": null,
   "id": "ff3e3f9e-077a-4852-b755-02e11e7d20d7",
   "metadata": {
    "tags": []
   },
   "outputs": [],
   "source": [
    "#for lora installetion\n",
    "\n",
    "import os\n",
    "\n",
    "# Function to extract filename from URL\n",
    "def extract_filename(url):\n",
    "    return url.split('/')[-1]\n",
    "\n",
    "# Function to rename the downloaded file\n",
    "def rename_downloaded_file(target_dir, old_filename, new_filename):\n",
    "    os.rename(os.path.join(target_dir, old_filename), os.path.join(target_dir, new_filename))\n",
    "\n",
    "# Target directory for Lora\n",
    "lora_target_dir = \"/home/studio-lab-user/stable-diffusion-webui/models/Lora\"\n",
    "os.makedirs(lora_target_dir, exist_ok=True)\n",
    "\n",
    "# Prompt user for Lora download link\n",
    "lora_wget_link = input(\"Enter the Lora download link: \")\n",
    "\n",
    "# Get the filename from the URL\n",
    "downloaded_filename = extract_filename(lora_wget_link)\n",
    "\n",
    "# Full path for the downloaded file\n",
    "downloaded_file_path = os.path.join(lora_target_dir, downloaded_filename)\n",
    "\n",
    "# Download Lora\n",
    "download_command = f'wget -O {downloaded_file_path} {lora_wget_link}'\n",
    "download_result = os.system(download_command)\n",
    "\n",
    "# Check if the download was successful\n",
    "if download_result == 0:\n",
    "    # Ask user for new filename without extension\n",
    "    new_filename_without_extension = input(\"Enter new filename (without extension): \")\n",
    "\n",
    "    # Add .safetensors extension\n",
    "    new_filename = new_filename_without_extension + '.safetensors'\n",
    "\n",
    "    # Rename the downloaded file\n",
    "    rename_downloaded_file(lora_target_dir, downloaded_filename, new_filename)\n",
    "\n",
    "    print('\\033[1;32mLora downloaded and renamed successfully!')\n",
    "else:\n",
    "    print('\\033[1;31mFailed to download Lora. Please check the URL and try again.')\n"
   ]
  },
  {
   "cell_type": "code",
   "execution_count": 22,
   "id": "8f719389-866e-4ad3-81b8-348b6a4eb2d1",
   "metadata": {
    "tags": []
   },
   "outputs": [
    {
     "name": "stdin",
     "output_type": "stream",
     "text": [
      "Enter the checkpoints download link:  https://civitai.com/api/download/models/511677\n",
      "Enter new filename for checkpoints (without extension):  su\n"
     ]
    },
    {
     "name": "stdout",
     "output_type": "stream",
     "text": [
      "\u001b[1;32mCheckpoints downloaded and renamed successfully!\n"
     ]
    }
   ],
   "source": [
    "#for checkpoints installetion\n",
    "\n",
    "import os\n",
    "\n",
    "# Function to extract filename from URL\n",
    "def extract_filename(url):\n",
    "    return url.split('/')[-1]\n",
    "\n",
    "# Function to rename the downloaded file\n",
    "def rename_downloaded_file(target_dir, old_filename, new_filename):\n",
    "    os.rename(os.path.join(target_dir, old_filename), os.path.join(target_dir, new_filename))\n",
    "\n",
    "# Target directory for checkpoints\n",
    "checkpoints_target_dir = \"/home/studio-lab-user/stable-diffusion-webui/models/Stable-diffusion\"\n",
    "os.makedirs(checkpoints_target_dir, exist_ok=True)\n",
    "\n",
    "# Prompt user for checkpoints download link\n",
    "checkpoints_wget_link = input(\"Enter the checkpoints download link: \")\n",
    "\n",
    "# Download checkpoints quietly with progress bar\n",
    "os.system(f'wget -q --show-progress -O {checkpoints_target_dir}/{extract_filename(checkpoints_wget_link)} {checkpoints_wget_link}')\n",
    "\n",
    "# Get the downloaded filename\n",
    "downloaded_checkpoints_filename = extract_filename(checkpoints_wget_link)\n",
    "\n",
    "# Ask user for new filename for checkpoints without extension\n",
    "new_checkpoints_filename_without_extension = input(\"Enter new filename for checkpoints (without extension): \")\n",
    "\n",
    "# Add .safetensors extension to checkpoints filename\n",
    "new_checkpoints_filename = new_checkpoints_filename_without_extension + '.safetensors'\n",
    "\n",
    "# Rename the downloaded checkpoints file\n",
    "rename_downloaded_file(checkpoints_target_dir, downloaded_checkpoints_filename, new_checkpoints_filename)\n",
    "\n",
    "print('\\033[1;32mCheckpoints downloaded and renamed successfully!')\n"
   ]
  },
  {
   "cell_type": "code",
   "execution_count": 7,
   "id": "f75479c4-5ed2-4a23-9440-d966679175f3",
   "metadata": {},
   "outputs": [
    {
     "name": "stdout",
     "output_type": "stream",
     "text": [
      "Total: 32 GB\n",
      "Used: 0 GB\n",
      "Free: 31 GB\n"
     ]
    }
   ],
   "source": [
    "#check storage\n",
    "\n",
    "import shutil\n",
    "\n",
    "total, used, free = shutil.disk_usage(\"/\")\n",
    "\n",
    "print(\"Total: %d GB\" % (total // (2**30)))\n",
    "print(\"Used: %d GB\" % (used // (2**30)))\n",
    "print(\"Free: %d GB\" % (free // (2**30)))\n",
    "\n"
   ]
  },
  {
   "cell_type": "code",
   "execution_count": 8,
   "id": "23ada4dc-1d90-46de-bd64-713eb2a468bd",
   "metadata": {
    "tags": []
   },
   "outputs": [
    {
     "name": "stdout",
     "output_type": "stream",
     "text": [
      "Checking current disk usage...\n",
      "You have enough free space.\n"
     ]
    }
   ],
   "source": [
    "#chek avalable storage and delete file by selecting numbrs\n",
    "\n",
    "import os\n",
    "import shutil\n",
    "import subprocess\n",
    "\n",
    "def check_disk_usage():\n",
    "    \"\"\"Check the current disk usage.\"\"\"\n",
    "    total, used, free = shutil.disk_usage(\"/\")\n",
    "    return free // (2**30)  # Free space in GB\n",
    "\n",
    "def get_largest_files_and_dirs(path=\"/\", n=10):\n",
    "    \"\"\"Get the largest files and directories in the specified path.\"\"\"\n",
    "    result = subprocess.run(\n",
    "        [\"du\", \"-ah\", path], stdout=subprocess.PIPE, text=True\n",
    "    )\n",
    "    lines = result.stdout.splitlines()\n",
    "    sizes = []\n",
    "    for line in lines:\n",
    "        size, name = line.split(maxsplit=1)\n",
    "        if size.endswith('G'):\n",
    "            size = float(size[:-1]) * 1024 ** 3\n",
    "        elif size.endswith('M'):\n",
    "            size = float(size[:-1]) * 1024 ** 2\n",
    "        elif size.endswith('K'):\n",
    "            size = float(size[:-1]) * 1024\n",
    "        else:\n",
    "            size = float(size)\n",
    "        sizes.append((size, name))\n",
    "    sizes.sort(reverse=True, key=lambda x: x[0])\n",
    "    return sizes[:n]\n",
    "\n",
    "def delete_file(path):\n",
    "    \"\"\"Delete the specified file or directory.\"\"\"\n",
    "    if os.path.isdir(path):\n",
    "        shutil.rmtree(path)\n",
    "    else:\n",
    "        os.remove(path)\n",
    "\n",
    "def main():\n",
    "    print(\"Checking current disk usage...\")\n",
    "    free_space = check_disk_usage()\n",
    "    if free_space > 5:\n",
    "        print(\"You have enough free space.\")\n",
    "        return\n",
    "\n",
    "    print(\"\\nListing the largest files and directories...\")\n",
    "    largest_items = get_largest_files_and_dirs()\n",
    "    for i, (size, name) in enumerate(largest_items, start=1):\n",
    "        print(f\"{i}. {size / (1024 ** 2):.2f} MB - {name}\")\n",
    "\n",
    "    while True:\n",
    "        try:\n",
    "            choice = int(input(\"\\nEnter the number of the file/directory to delete (or 0 to exit): \"))\n",
    "            if choice == 0:\n",
    "                break\n",
    "            if choice < 1 or choice > len(largest_items):\n",
    "                print(\"Invalid choice. Please enter a number from the list.\")\n",
    "                continue\n",
    "            _, path = largest_items[choice - 1]\n",
    "            delete_file(path)\n",
    "            print(f\"Deleted {path}.\")\n",
    "            free_space = check_disk_usage()\n",
    "            print(f\"Free space after deletion: {free_space} GB\")\n",
    "            if free_space > 5:\n",
    "                print(\"You now have enough free space.\")\n",
    "                break\n",
    "        except ValueError:\n",
    "            print(\"Invalid input. Please enter a number.\")\n",
    "\n",
    "if __name__ == \"__main__\":\n",
    "    main()\n"
   ]
  },
  {
   "cell_type": "code",
   "execution_count": null,
   "id": "02815548-1ab2-49cb-a5db-b8f1604b948b",
   "metadata": {},
   "outputs": [],
   "source": []
  }
 ],
 "metadata": {
  "kernelspec": {
   "display_name": "default:Python",
   "language": "python",
   "name": "conda-env-default-py"
  },
  "language_info": {
   "codemirror_mode": {
    "name": "ipython",
    "version": 3
   },
   "file_extension": ".py",
   "mimetype": "text/x-python",
   "name": "python",
   "nbconvert_exporter": "python",
   "pygments_lexer": "ipython3",
   "version": "3.9.19"
  }
 },
 "nbformat": 4,
 "nbformat_minor": 5
}
